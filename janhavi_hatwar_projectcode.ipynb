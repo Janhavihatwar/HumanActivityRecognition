{
 "cells": [
  {
   "cell_type": "code",
   "execution_count": 1,
   "metadata": {},
   "outputs": [],
   "source": [
    "#importing required libraries\n",
    "import pandas as pd\n",
    "import numpy as np\n",
    "import seaborn as sns\n",
    "\n",
    "# Import matplotlib for visualisations\n",
    "import matplotlib.pyplot as plt\n",
    "import matplotlib.cm as cm\n",
    "import warnings\n",
    "warnings.filterwarnings(\"ignore\")\n",
    "\n",
    "# Change backend for matplotlib to inline\n",
    "%matplotlib inline"
   ]
  },
  {
   "cell_type": "code",
   "execution_count": 2,
   "metadata": {
    "scrolled": false
   },
   "outputs": [
    {
     "data": {
      "text/html": [
       "<div>\n",
       "<style scoped>\n",
       "    .dataframe tbody tr th:only-of-type {\n",
       "        vertical-align: middle;\n",
       "    }\n",
       "\n",
       "    .dataframe tbody tr th {\n",
       "        vertical-align: top;\n",
       "    }\n",
       "\n",
       "    .dataframe thead th {\n",
       "        text-align: right;\n",
       "    }\n",
       "</style>\n",
       "<table border=\"1\" class=\"dataframe\">\n",
       "  <thead>\n",
       "    <tr style=\"text-align: right;\">\n",
       "      <th></th>\n",
       "      <th>Unnamed: 0</th>\n",
       "      <th>tBodyAcc-mean()-X</th>\n",
       "      <th>tBodyAcc-mean()-Y</th>\n",
       "      <th>tBodyAcc-mean()-Z</th>\n",
       "      <th>tBodyAcc-std()-X</th>\n",
       "      <th>tBodyAcc-std()-Y</th>\n",
       "      <th>tBodyAcc-std()-Z</th>\n",
       "      <th>tBodyAcc-mad()-X</th>\n",
       "      <th>tBodyAcc-mad()-Y</th>\n",
       "      <th>tBodyAcc-mad()-Z</th>\n",
       "      <th>...</th>\n",
       "      <th>fBodyBodyGyroJerkMag-skewness()</th>\n",
       "      <th>fBodyBodyGyroJerkMag-kurtosis()</th>\n",
       "      <th>angle(tBodyAccMean,gravity)</th>\n",
       "      <th>angle(tBodyAccJerkMean),gravityMean)</th>\n",
       "      <th>angle(tBodyGyroMean,gravityMean)</th>\n",
       "      <th>angle(tBodyGyroJerkMean,gravityMean)</th>\n",
       "      <th>angle(X,gravityMean)</th>\n",
       "      <th>angle(Y,gravityMean)</th>\n",
       "      <th>angle(Z,gravityMean)</th>\n",
       "      <th>subject</th>\n",
       "    </tr>\n",
       "  </thead>\n",
       "  <tbody>\n",
       "    <tr>\n",
       "      <th>1</th>\n",
       "      <td>4482</td>\n",
       "      <td>0.333258</td>\n",
       "      <td>-0.001307</td>\n",
       "      <td>-0.166581</td>\n",
       "      <td>-0.034498</td>\n",
       "      <td>-0.062471</td>\n",
       "      <td>-0.283268</td>\n",
       "      <td>-0.059698</td>\n",
       "      <td>-0.174912</td>\n",
       "      <td>-0.338661</td>\n",
       "      <td>...</td>\n",
       "      <td>0.308324</td>\n",
       "      <td>0.048713</td>\n",
       "      <td>-0.191360</td>\n",
       "      <td>-0.580316</td>\n",
       "      <td>-0.423810</td>\n",
       "      <td>0.689597</td>\n",
       "      <td>-0.765469</td>\n",
       "      <td>0.237371</td>\n",
       "      <td>-0.067771</td>\n",
       "      <td>22</td>\n",
       "    </tr>\n",
       "    <tr>\n",
       "      <th>2</th>\n",
       "      <td>10012</td>\n",
       "      <td>0.266797</td>\n",
       "      <td>-0.018683</td>\n",
       "      <td>-0.101142</td>\n",
       "      <td>-0.990874</td>\n",
       "      <td>-0.989001</td>\n",
       "      <td>-0.987255</td>\n",
       "      <td>-0.991659</td>\n",
       "      <td>-0.987859</td>\n",
       "      <td>-0.985430</td>\n",
       "      <td>...</td>\n",
       "      <td>-0.388442</td>\n",
       "      <td>-0.703577</td>\n",
       "      <td>-0.152601</td>\n",
       "      <td>0.162091</td>\n",
       "      <td>-0.628052</td>\n",
       "      <td>0.551795</td>\n",
       "      <td>0.587768</td>\n",
       "      <td>-0.536508</td>\n",
       "      <td>-0.469193</td>\n",
       "      <td>24</td>\n",
       "    </tr>\n",
       "    <tr>\n",
       "      <th>3</th>\n",
       "      <td>4386</td>\n",
       "      <td>0.276363</td>\n",
       "      <td>-0.020289</td>\n",
       "      <td>-0.113701</td>\n",
       "      <td>-0.995733</td>\n",
       "      <td>-0.939094</td>\n",
       "      <td>-0.984418</td>\n",
       "      <td>-0.997013</td>\n",
       "      <td>-0.936180</td>\n",
       "      <td>-0.983728</td>\n",
       "      <td>...</td>\n",
       "      <td>0.054212</td>\n",
       "      <td>-0.430753</td>\n",
       "      <td>0.029986</td>\n",
       "      <td>-0.094248</td>\n",
       "      <td>0.025219</td>\n",
       "      <td>-0.408070</td>\n",
       "      <td>-0.819227</td>\n",
       "      <td>0.213794</td>\n",
       "      <td>-0.031301</td>\n",
       "      <td>22</td>\n",
       "    </tr>\n",
       "    <tr>\n",
       "      <th>4</th>\n",
       "      <td>3751</td>\n",
       "      <td>0.268231</td>\n",
       "      <td>-0.004146</td>\n",
       "      <td>-0.094503</td>\n",
       "      <td>0.473123</td>\n",
       "      <td>0.452403</td>\n",
       "      <td>-0.152600</td>\n",
       "      <td>0.450082</td>\n",
       "      <td>0.482764</td>\n",
       "      <td>-0.239383</td>\n",
       "      <td>...</td>\n",
       "      <td>-0.139639</td>\n",
       "      <td>-0.558550</td>\n",
       "      <td>0.278372</td>\n",
       "      <td>0.363240</td>\n",
       "      <td>0.885432</td>\n",
       "      <td>0.848414</td>\n",
       "      <td>-0.779760</td>\n",
       "      <td>0.249384</td>\n",
       "      <td>0.035484</td>\n",
       "      <td>19</td>\n",
       "    </tr>\n",
       "    <tr>\n",
       "      <th>5</th>\n",
       "      <td>8432</td>\n",
       "      <td>0.278280</td>\n",
       "      <td>-0.017187</td>\n",
       "      <td>-0.108585</td>\n",
       "      <td>-0.997134</td>\n",
       "      <td>-0.995370</td>\n",
       "      <td>-0.993211</td>\n",
       "      <td>-0.997451</td>\n",
       "      <td>-0.995046</td>\n",
       "      <td>-0.993899</td>\n",
       "      <td>...</td>\n",
       "      <td>-0.681219</td>\n",
       "      <td>-0.893091</td>\n",
       "      <td>-0.389666</td>\n",
       "      <td>-0.001328</td>\n",
       "      <td>-0.094045</td>\n",
       "      <td>0.245986</td>\n",
       "      <td>-0.331963</td>\n",
       "      <td>0.490413</td>\n",
       "      <td>-0.207328</td>\n",
       "      <td>10</td>\n",
       "    </tr>\n",
       "    <tr>\n",
       "      <th>...</th>\n",
       "      <td>...</td>\n",
       "      <td>...</td>\n",
       "      <td>...</td>\n",
       "      <td>...</td>\n",
       "      <td>...</td>\n",
       "      <td>...</td>\n",
       "      <td>...</td>\n",
       "      <td>...</td>\n",
       "      <td>...</td>\n",
       "      <td>...</td>\n",
       "      <td>...</td>\n",
       "      <td>...</td>\n",
       "      <td>...</td>\n",
       "      <td>...</td>\n",
       "      <td>...</td>\n",
       "      <td>...</td>\n",
       "      <td>...</td>\n",
       "      <td>...</td>\n",
       "      <td>...</td>\n",
       "      <td>...</td>\n",
       "      <td>...</td>\n",
       "    </tr>\n",
       "    <tr>\n",
       "      <th>8234</th>\n",
       "      <td>8324</td>\n",
       "      <td>0.270511</td>\n",
       "      <td>-0.011321</td>\n",
       "      <td>-0.111377</td>\n",
       "      <td>-0.988057</td>\n",
       "      <td>-0.961229</td>\n",
       "      <td>-0.951407</td>\n",
       "      <td>-0.989752</td>\n",
       "      <td>-0.958753</td>\n",
       "      <td>-0.965050</td>\n",
       "      <td>...</td>\n",
       "      <td>-0.250141</td>\n",
       "      <td>-0.615815</td>\n",
       "      <td>-0.353490</td>\n",
       "      <td>-0.081501</td>\n",
       "      <td>0.181517</td>\n",
       "      <td>-0.180534</td>\n",
       "      <td>0.658690</td>\n",
       "      <td>-0.091334</td>\n",
       "      <td>0.961636</td>\n",
       "      <td>10</td>\n",
       "    </tr>\n",
       "    <tr>\n",
       "      <th>8235</th>\n",
       "      <td>10206</td>\n",
       "      <td>0.260897</td>\n",
       "      <td>-0.017322</td>\n",
       "      <td>-0.103011</td>\n",
       "      <td>-0.988656</td>\n",
       "      <td>-0.990926</td>\n",
       "      <td>-0.989076</td>\n",
       "      <td>-0.989816</td>\n",
       "      <td>-0.990775</td>\n",
       "      <td>-0.988472</td>\n",
       "      <td>...</td>\n",
       "      <td>-0.255976</td>\n",
       "      <td>-0.667159</td>\n",
       "      <td>-0.079052</td>\n",
       "      <td>-0.107393</td>\n",
       "      <td>-0.547206</td>\n",
       "      <td>0.564335</td>\n",
       "      <td>0.435081</td>\n",
       "      <td>-0.503752</td>\n",
       "      <td>-0.485656</td>\n",
       "      <td>24</td>\n",
       "    </tr>\n",
       "    <tr>\n",
       "      <th>8236</th>\n",
       "      <td>6253</td>\n",
       "      <td>0.278648</td>\n",
       "      <td>-0.020038</td>\n",
       "      <td>-0.118590</td>\n",
       "      <td>-0.983932</td>\n",
       "      <td>-0.912261</td>\n",
       "      <td>-0.955945</td>\n",
       "      <td>-0.987130</td>\n",
       "      <td>-0.917041</td>\n",
       "      <td>-0.957747</td>\n",
       "      <td>...</td>\n",
       "      <td>0.354233</td>\n",
       "      <td>0.146016</td>\n",
       "      <td>-0.068825</td>\n",
       "      <td>-0.060211</td>\n",
       "      <td>-0.727493</td>\n",
       "      <td>-0.655778</td>\n",
       "      <td>-0.795575</td>\n",
       "      <td>0.238281</td>\n",
       "      <td>-0.000787</td>\n",
       "      <td>28</td>\n",
       "    </tr>\n",
       "    <tr>\n",
       "      <th>8237</th>\n",
       "      <td>10123</td>\n",
       "      <td>0.283642</td>\n",
       "      <td>-0.006992</td>\n",
       "      <td>-0.129778</td>\n",
       "      <td>-0.994152</td>\n",
       "      <td>-0.954562</td>\n",
       "      <td>-0.951844</td>\n",
       "      <td>-0.995321</td>\n",
       "      <td>-0.955989</td>\n",
       "      <td>-0.944934</td>\n",
       "      <td>...</td>\n",
       "      <td>-0.586855</td>\n",
       "      <td>-0.881097</td>\n",
       "      <td>-0.051389</td>\n",
       "      <td>-0.015944</td>\n",
       "      <td>-0.759481</td>\n",
       "      <td>-0.805523</td>\n",
       "      <td>-0.864310</td>\n",
       "      <td>0.188362</td>\n",
       "      <td>0.044799</td>\n",
       "      <td>24</td>\n",
       "    </tr>\n",
       "    <tr>\n",
       "      <th>8238</th>\n",
       "      <td>5600</td>\n",
       "      <td>0.216534</td>\n",
       "      <td>-0.020933</td>\n",
       "      <td>-0.134184</td>\n",
       "      <td>-0.319141</td>\n",
       "      <td>-0.062512</td>\n",
       "      <td>-0.316390</td>\n",
       "      <td>-0.358099</td>\n",
       "      <td>-0.011323</td>\n",
       "      <td>-0.317022</td>\n",
       "      <td>...</td>\n",
       "      <td>0.060853</td>\n",
       "      <td>-0.351961</td>\n",
       "      <td>0.666435</td>\n",
       "      <td>0.068822</td>\n",
       "      <td>-0.539560</td>\n",
       "      <td>-0.568153</td>\n",
       "      <td>-0.851314</td>\n",
       "      <td>0.169280</td>\n",
       "      <td>-0.059874</td>\n",
       "      <td>26</td>\n",
       "    </tr>\n",
       "  </tbody>\n",
       "</table>\n",
       "<p>8238 rows × 563 columns</p>\n",
       "</div>"
      ],
      "text/plain": [
       "      Unnamed: 0  tBodyAcc-mean()-X  tBodyAcc-mean()-Y  tBodyAcc-mean()-Z  \\\n",
       "1           4482           0.333258          -0.001307          -0.166581   \n",
       "2          10012           0.266797          -0.018683          -0.101142   \n",
       "3           4386           0.276363          -0.020289          -0.113701   \n",
       "4           3751           0.268231          -0.004146          -0.094503   \n",
       "5           8432           0.278280          -0.017187          -0.108585   \n",
       "...          ...                ...                ...                ...   \n",
       "8234        8324           0.270511          -0.011321          -0.111377   \n",
       "8235       10206           0.260897          -0.017322          -0.103011   \n",
       "8236        6253           0.278648          -0.020038          -0.118590   \n",
       "8237       10123           0.283642          -0.006992          -0.129778   \n",
       "8238        5600           0.216534          -0.020933          -0.134184   \n",
       "\n",
       "      tBodyAcc-std()-X  tBodyAcc-std()-Y  tBodyAcc-std()-Z  tBodyAcc-mad()-X  \\\n",
       "1            -0.034498         -0.062471         -0.283268         -0.059698   \n",
       "2            -0.990874         -0.989001         -0.987255         -0.991659   \n",
       "3            -0.995733         -0.939094         -0.984418         -0.997013   \n",
       "4             0.473123          0.452403         -0.152600          0.450082   \n",
       "5            -0.997134         -0.995370         -0.993211         -0.997451   \n",
       "...                ...               ...               ...               ...   \n",
       "8234         -0.988057         -0.961229         -0.951407         -0.989752   \n",
       "8235         -0.988656         -0.990926         -0.989076         -0.989816   \n",
       "8236         -0.983932         -0.912261         -0.955945         -0.987130   \n",
       "8237         -0.994152         -0.954562         -0.951844         -0.995321   \n",
       "8238         -0.319141         -0.062512         -0.316390         -0.358099   \n",
       "\n",
       "      tBodyAcc-mad()-Y  tBodyAcc-mad()-Z  ...  \\\n",
       "1            -0.174912         -0.338661  ...   \n",
       "2            -0.987859         -0.985430  ...   \n",
       "3            -0.936180         -0.983728  ...   \n",
       "4             0.482764         -0.239383  ...   \n",
       "5            -0.995046         -0.993899  ...   \n",
       "...                ...               ...  ...   \n",
       "8234         -0.958753         -0.965050  ...   \n",
       "8235         -0.990775         -0.988472  ...   \n",
       "8236         -0.917041         -0.957747  ...   \n",
       "8237         -0.955989         -0.944934  ...   \n",
       "8238         -0.011323         -0.317022  ...   \n",
       "\n",
       "      fBodyBodyGyroJerkMag-skewness()  fBodyBodyGyroJerkMag-kurtosis()  \\\n",
       "1                            0.308324                         0.048713   \n",
       "2                           -0.388442                        -0.703577   \n",
       "3                            0.054212                        -0.430753   \n",
       "4                           -0.139639                        -0.558550   \n",
       "5                           -0.681219                        -0.893091   \n",
       "...                               ...                              ...   \n",
       "8234                        -0.250141                        -0.615815   \n",
       "8235                        -0.255976                        -0.667159   \n",
       "8236                         0.354233                         0.146016   \n",
       "8237                        -0.586855                        -0.881097   \n",
       "8238                         0.060853                        -0.351961   \n",
       "\n",
       "      angle(tBodyAccMean,gravity)  angle(tBodyAccJerkMean),gravityMean)  \\\n",
       "1                       -0.191360                             -0.580316   \n",
       "2                       -0.152601                              0.162091   \n",
       "3                        0.029986                             -0.094248   \n",
       "4                        0.278372                              0.363240   \n",
       "5                       -0.389666                             -0.001328   \n",
       "...                           ...                                   ...   \n",
       "8234                    -0.353490                             -0.081501   \n",
       "8235                    -0.079052                             -0.107393   \n",
       "8236                    -0.068825                             -0.060211   \n",
       "8237                    -0.051389                             -0.015944   \n",
       "8238                     0.666435                              0.068822   \n",
       "\n",
       "      angle(tBodyGyroMean,gravityMean)  angle(tBodyGyroJerkMean,gravityMean)  \\\n",
       "1                            -0.423810                              0.689597   \n",
       "2                            -0.628052                              0.551795   \n",
       "3                             0.025219                             -0.408070   \n",
       "4                             0.885432                              0.848414   \n",
       "5                            -0.094045                              0.245986   \n",
       "...                                ...                                   ...   \n",
       "8234                          0.181517                             -0.180534   \n",
       "8235                         -0.547206                              0.564335   \n",
       "8236                         -0.727493                             -0.655778   \n",
       "8237                         -0.759481                             -0.805523   \n",
       "8238                         -0.539560                             -0.568153   \n",
       "\n",
       "      angle(X,gravityMean)  angle(Y,gravityMean)  angle(Z,gravityMean)  \\\n",
       "1                -0.765469              0.237371             -0.067771   \n",
       "2                 0.587768             -0.536508             -0.469193   \n",
       "3                -0.819227              0.213794             -0.031301   \n",
       "4                -0.779760              0.249384              0.035484   \n",
       "5                -0.331963              0.490413             -0.207328   \n",
       "...                    ...                   ...                   ...   \n",
       "8234              0.658690             -0.091334              0.961636   \n",
       "8235              0.435081             -0.503752             -0.485656   \n",
       "8236             -0.795575              0.238281             -0.000787   \n",
       "8237             -0.864310              0.188362              0.044799   \n",
       "8238             -0.851314              0.169280             -0.059874   \n",
       "\n",
       "      subject  \n",
       "1          22  \n",
       "2          24  \n",
       "3          22  \n",
       "4          19  \n",
       "5          10  \n",
       "...       ...  \n",
       "8234       10  \n",
       "8235       24  \n",
       "8236       28  \n",
       "8237       24  \n",
       "8238       26  \n",
       "\n",
       "[8238 rows x 563 columns]"
      ]
     },
     "execution_count": 2,
     "metadata": {},
     "output_type": "execute_result"
    }
   ],
   "source": [
    "xtrain = pd.read_csv('/home/janhavi/Downloads/train_data.csv')\n",
    "xtrain.drop(labels=0, axis=0)"
   ]
  },
  {
   "cell_type": "code",
   "execution_count": 3,
   "metadata": {},
   "outputs": [
    {
     "data": {
      "text/html": [
       "<div>\n",
       "<style scoped>\n",
       "    .dataframe tbody tr th:only-of-type {\n",
       "        vertical-align: middle;\n",
       "    }\n",
       "\n",
       "    .dataframe tbody tr th {\n",
       "        vertical-align: top;\n",
       "    }\n",
       "\n",
       "    .dataframe thead th {\n",
       "        text-align: right;\n",
       "    }\n",
       "</style>\n",
       "<table border=\"1\" class=\"dataframe\">\n",
       "  <thead>\n",
       "    <tr style=\"text-align: right;\">\n",
       "      <th></th>\n",
       "      <th>Unnamed: 0</th>\n",
       "      <th>Activity</th>\n",
       "    </tr>\n",
       "  </thead>\n",
       "  <tbody>\n",
       "    <tr>\n",
       "      <th>1</th>\n",
       "      <td>4482</td>\n",
       "      <td>WALKING</td>\n",
       "    </tr>\n",
       "    <tr>\n",
       "      <th>2</th>\n",
       "      <td>10012</td>\n",
       "      <td>LAYING</td>\n",
       "    </tr>\n",
       "    <tr>\n",
       "      <th>3</th>\n",
       "      <td>4386</td>\n",
       "      <td>STANDING</td>\n",
       "    </tr>\n",
       "    <tr>\n",
       "      <th>4</th>\n",
       "      <td>3751</td>\n",
       "      <td>WALKING_DOWNSTAIRS</td>\n",
       "    </tr>\n",
       "    <tr>\n",
       "      <th>5</th>\n",
       "      <td>8432</td>\n",
       "      <td>SITTING</td>\n",
       "    </tr>\n",
       "    <tr>\n",
       "      <th>...</th>\n",
       "      <td>...</td>\n",
       "      <td>...</td>\n",
       "    </tr>\n",
       "    <tr>\n",
       "      <th>8234</th>\n",
       "      <td>8324</td>\n",
       "      <td>LAYING</td>\n",
       "    </tr>\n",
       "    <tr>\n",
       "      <th>8235</th>\n",
       "      <td>10206</td>\n",
       "      <td>LAYING</td>\n",
       "    </tr>\n",
       "    <tr>\n",
       "      <th>8236</th>\n",
       "      <td>6253</td>\n",
       "      <td>STANDING</td>\n",
       "    </tr>\n",
       "    <tr>\n",
       "      <th>8237</th>\n",
       "      <td>10123</td>\n",
       "      <td>STANDING</td>\n",
       "    </tr>\n",
       "    <tr>\n",
       "      <th>8238</th>\n",
       "      <td>5600</td>\n",
       "      <td>WALKING</td>\n",
       "    </tr>\n",
       "  </tbody>\n",
       "</table>\n",
       "<p>8238 rows × 2 columns</p>\n",
       "</div>"
      ],
      "text/plain": [
       "      Unnamed: 0            Activity\n",
       "1           4482             WALKING\n",
       "2          10012              LAYING\n",
       "3           4386            STANDING\n",
       "4           3751  WALKING_DOWNSTAIRS\n",
       "5           8432             SITTING\n",
       "...          ...                 ...\n",
       "8234        8324              LAYING\n",
       "8235       10206              LAYING\n",
       "8236        6253            STANDING\n",
       "8237       10123            STANDING\n",
       "8238        5600             WALKING\n",
       "\n",
       "[8238 rows x 2 columns]"
      ]
     },
     "execution_count": 3,
     "metadata": {},
     "output_type": "execute_result"
    }
   ],
   "source": [
    "ytrain = pd.read_csv('/home/janhavi/Downloads/train_labels.csv')\n",
    "ytrain.drop(labels=0, axis=0)"
   ]
  },
  {
   "cell_type": "code",
   "execution_count": 4,
   "metadata": {},
   "outputs": [],
   "source": [
    "xtest = pd.read_csv('/home/janhavi/Downloads/test_data.csv')"
   ]
  },
  {
   "cell_type": "code",
   "execution_count": 5,
   "metadata": {},
   "outputs": [
    {
     "name": "stdout",
     "output_type": "stream",
     "text": [
      "Training Data: (8239, 563)\n",
      "Null values present in training data: False\n",
      "Training y data: (8239, 2)\n",
      "Null values present in y training data: False\n",
      "Testing Data: (2060, 563)\n",
      "Null values present in testing data: False\n"
     ]
    }
   ],
   "source": [
    "# For training data\n",
    "print(\"Training Data:\",xtrain.shape)\n",
    "print(\"Null values present in training data:\",xtrain.isnull().values.any())\n",
    "\n",
    "print(\"Training y data:\",ytrain.shape)\n",
    "print(\"Null values present in y training data:\",xtrain.isnull().values.any())\n",
    "  \n",
    "# For testing data\n",
    "print(\"Testing Data:\",xtest.shape)\n",
    "print(\"Null values present in testing data:\",xtest.isnull().values.any())"
   ]
  },
  {
   "cell_type": "code",
   "execution_count": 6,
   "metadata": {},
   "outputs": [],
   "source": [
    "# Get X and y for training data\n",
    "y__train = ytrain['Activity']\n",
    "x__train = xtrain.drop(columns = ['Unnamed: 0', 'subject'])\n",
    "\n",
    "# Get X and y for testing data\n",
    "x__test = xtest.drop(columns = ['Unnamed: 0', 'subject'])"
   ]
  },
  {
   "cell_type": "markdown",
   "metadata": {},
   "source": [
    "## Data visualization"
   ]
  },
  {
   "cell_type": "code",
   "execution_count": 7,
   "metadata": {},
   "outputs": [
    {
     "data": {
      "image/png": "[encoded data removed]",
      "text/plain": [
       "<Figure size 504x504 with 1 Axes>"
      ]
     },
     "metadata": {},
     "output_type": "display_data"
    }
   ],
   "source": [
    "# Count the number of records for each activity\n",
    "count_of_each_activity = np.array(y__train.value_counts())\n",
    "\n",
    "# Identify all the unqiue activities and in sorted order\n",
    "activities = sorted(y__train.unique())\n",
    "\n",
    "# Plot a pie chart for different activities\n",
    "plt.rcParams.update({'figure.figsize': [7, 7], 'font.size': 10})\n",
    "plt.pie(count_of_each_activity, labels = activities, autopct = '%0.2f')\n",
    "plt.savefig(\"pie chart for training labels.jpg\", dpi=600)"
   ]
  },
  {
   "cell_type": "code",
   "execution_count": 8,
   "metadata": {},
   "outputs": [
    {
     "name": "stdout",
     "output_type": "stream",
     "text": [
      "LAYING = 1525\n",
      "SITTING = 1514\n",
      "STANDING = 1440\n",
      "WALKING = 1382\n",
      "WALKING_DOWNSTAIRS = 1241\n",
      "WALKING_UPSTAIRS = 1137\n"
     ]
    }
   ],
   "source": [
    "for i in range(len(activities)):\n",
    "    print(activities[i],'=',count_of_each_activity[i])"
   ]
  },
  {
   "cell_type": "code",
   "execution_count": 9,
   "metadata": {},
   "outputs": [
    {
     "data": {
      "image/png": "[encoded data removed]",
      "text/plain": [
       "<Figure size 504x504 with 1 Axes>"
      ]
     },
     "metadata": {
      "needs_background": "light"
     },
     "output_type": "display_data"
    }
   ],
   "source": [
    "# Count for each type\n",
    "acc = 0\n",
    "gyro = 0\n",
    "others = 0\n",
    "for column in x__train.columns:\n",
    "    if 'Acc' in str(column):\n",
    "        acc += 1\n",
    "    elif 'Gyro' in str(column):\n",
    "        gyro += 1\n",
    "    else:\n",
    "        others += 1\n",
    "\n",
    "\n",
    "# Show bar plot for the three types\n",
    "plt.rcParams.update({'figure.figsize': [7, 7], 'font.size': 10})\n",
    "plt.bar(['Accelerometer', 'Gyroscope', 'Others'], [acc, gyro, others], color = ('r', 'b', 'g'))\n",
    "plt.savefig(\"bar plot for column types.jpg\", dpi=600)"
   ]
  },
  {
   "cell_type": "code",
   "execution_count": 10,
   "metadata": {},
   "outputs": [
    {
     "data": {
      "text/html": [
       "<div>\n",
       "<style scoped>\n",
       "    .dataframe tbody tr th:only-of-type {\n",
       "        vertical-align: middle;\n",
       "    }\n",
       "\n",
       "    .dataframe tbody tr th {\n",
       "        vertical-align: top;\n",
       "    }\n",
       "\n",
       "    .dataframe thead th {\n",
       "        text-align: right;\n",
       "    }\n",
       "</style>\n",
       "<table border=\"1\" class=\"dataframe\">\n",
       "  <thead>\n",
       "    <tr style=\"text-align: right;\">\n",
       "      <th></th>\n",
       "      <th>Unnamed: 0</th>\n",
       "      <th>Activity</th>\n",
       "    </tr>\n",
       "  </thead>\n",
       "  <tbody>\n",
       "    <tr>\n",
       "      <th>1</th>\n",
       "      <td>4482</td>\n",
       "      <td>WALKING</td>\n",
       "    </tr>\n",
       "    <tr>\n",
       "      <th>16</th>\n",
       "      <td>5410</td>\n",
       "      <td>WALKING</td>\n",
       "    </tr>\n",
       "    <tr>\n",
       "      <th>29</th>\n",
       "      <td>7443</td>\n",
       "      <td>WALKING</td>\n",
       "    </tr>\n",
       "    <tr>\n",
       "      <th>45</th>\n",
       "      <td>5001</td>\n",
       "      <td>WALKING</td>\n",
       "    </tr>\n",
       "    <tr>\n",
       "      <th>48</th>\n",
       "      <td>2308</td>\n",
       "      <td>WALKING</td>\n",
       "    </tr>\n",
       "    <tr>\n",
       "      <th>...</th>\n",
       "      <td>...</td>\n",
       "      <td>...</td>\n",
       "    </tr>\n",
       "    <tr>\n",
       "      <th>8191</th>\n",
       "      <td>4807</td>\n",
       "      <td>WALKING</td>\n",
       "    </tr>\n",
       "    <tr>\n",
       "      <th>8211</th>\n",
       "      <td>7273</td>\n",
       "      <td>WALKING</td>\n",
       "    </tr>\n",
       "    <tr>\n",
       "      <th>8221</th>\n",
       "      <td>4314</td>\n",
       "      <td>WALKING</td>\n",
       "    </tr>\n",
       "    <tr>\n",
       "      <th>8231</th>\n",
       "      <td>7917</td>\n",
       "      <td>WALKING</td>\n",
       "    </tr>\n",
       "    <tr>\n",
       "      <th>8238</th>\n",
       "      <td>5600</td>\n",
       "      <td>WALKING</td>\n",
       "    </tr>\n",
       "  </tbody>\n",
       "</table>\n",
       "<p>1382 rows × 2 columns</p>\n",
       "</div>"
      ],
      "text/plain": [
       "      Unnamed: 0 Activity\n",
       "1           4482  WALKING\n",
       "16          5410  WALKING\n",
       "29          7443  WALKING\n",
       "45          5001  WALKING\n",
       "48          2308  WALKING\n",
       "...          ...      ...\n",
       "8191        4807  WALKING\n",
       "8211        7273  WALKING\n",
       "8221        4314  WALKING\n",
       "8231        7917  WALKING\n",
       "8238        5600  WALKING\n",
       "\n",
       "[1382 rows x 2 columns]"
      ]
     },
     "execution_count": 10,
     "metadata": {},
     "output_type": "execute_result"
    }
   ],
   "source": [
    "standing_activity = ytrain[ytrain['Activity'] == 'WALKING']\n",
    "# Reset the index for this dataframe\n",
    "standing_activity"
   ]
  },
  {
   "cell_type": "code",
   "execution_count": 11,
   "metadata": {},
   "outputs": [
    {
     "data": {
      "image/png": "[encoded data removed]",
      "text/plain": [
       "<Figure size 504x504 with 1 Axes>"
      ]
     },
     "metadata": {
      "needs_background": "light"
     },
     "output_type": "display_data"
    }
   ],
   "source": [
    "### there are 1514 standing training labels\n",
    "# Show how many training examples exist for each of the six activities\n",
    "ytrain['Activity'].value_counts().plot(kind='bar',\n",
    "                                             title='Training Examples by Activity Type')\n",
    "plt.savefig(\"training examples by activity type.jpg\", dpi=600)\n",
    "plt.show()\n",
    "# Better understand how the recordings are spread across the different\n",
    "# users who participated in the study\n",
    "#df['user-id'].value_counts().plot(kind='bar',title='Training Examples by User')\n",
    "#plt.show()"
   ]
  },
  {
   "cell_type": "markdown",
   "metadata": {},
   "source": [
    "## Training and evaluation"
   ]
  },
  {
   "cell_type": "code",
   "execution_count": 12,
   "metadata": {},
   "outputs": [],
   "source": [
    "from sklearn.linear_model import LogisticRegression\n",
    "from sklearn.linear_model import LinearRegression\n",
    "from sklearn.metrics import accuracy_score\n",
    "from sklearn.model_selection import GridSearchCV  # for Parameter Tuning using gridsearch \n",
    "from sklearn.metrics import classification_report  # for classification report\n",
    "from sklearn.naive_bayes import GaussianNB\n",
    "from sklearn.neighbors import KNeighborsClassifier  # for K-nearest neighbors Classifier\n",
    "from sklearn.ensemble import RandomForestClassifier\n",
    "from sklearn.svm import SVC\n",
    "from sklearn.model_selection import cross_val_score,KFold\n",
    "from sklearn.pipeline import Pipeline  # Assembling steps to cross-validate together\n",
    "from sklearn.preprocessing import StandardScaler\n",
    "\n",
    "# split the dataset\n",
    "from sklearn.model_selection import train_test_split\n",
    "X_train, X_test, y_train, y_test = train_test_split(x__train, y__train, test_size=0.3, random_state=0)\n",
    "y_train = np.ravel(y_train)  # to convert array to a flattened array"
   ]
  },
  {
   "cell_type": "markdown",
   "metadata": {},
   "source": [
    "### Logistic regression model"
   ]
  },
  {
   "cell_type": "code",
   "execution_count": 71,
   "metadata": {},
   "outputs": [
    {
     "name": "stdout",
     "output_type": "stream",
     "text": [
      "Accuracy: 0.9897693774926305\n",
      "\n",
      " -------------Classification Report-------------\n",
      "\n",
      "                    precision    recall  f1-score   support\n",
      "\n",
      "            LAYING       1.00      1.00      1.00      1096\n",
      "           SITTING       0.97      0.97      0.97       995\n",
      "          STANDING       0.97      0.97      0.97      1063\n",
      "           WALKING       1.00      1.00      1.00       958\n",
      "WALKING_DOWNSTAIRS       1.00      1.00      1.00       798\n",
      "  WALKING_UPSTAIRS       1.00      1.00      1.00       857\n",
      "\n",
      "          accuracy                           0.99      5767\n",
      "         macro avg       0.99      0.99      0.99      5767\n",
      "      weighted avg       0.99      0.99      0.99      5767\n",
      "\n"
     ]
    }
   ],
   "source": [
    "# training model directly without hyperparamter tuning and pipeline\n",
    "\n",
    "clf1 = LogisticRegression().fit(X_train,y_train)\n",
    "prediction = clf1.predict(X_train)\n",
    "print(\"Accuracy:\", accuracy_score(y_train, prediction))\n",
    "print(\"\\n -------------Classification Report-------------\\n\")\n",
    "print(classification_report(y_train, prediction))"
   ]
  },
  {
   "cell_type": "code",
   "execution_count": null,
   "metadata": {},
   "outputs": [],
   "source": []
  },
  {
   "cell_type": "code",
   "execution_count": 14,
   "metadata": {},
   "outputs": [],
   "source": [
    "# Model training with hyperparamter tuning and pipeline\n",
    "\n",
    "model_lr = LogisticRegression()  \n",
    "model_lr.fit(X_train, y_train)"
   ]
  },
  {
   "cell_type": "code",
   "execution_count": 29,
   "metadata": {},
   "outputs": [],
   "source": [
    "\n",
    "param_grid_lr = {\n",
    "    'clf__max_iter': [10, 20, 50, 100],      #max_iter is the number of iterations.     \n",
    "    'clf__solver': ['newton-cg', 'lbfgs', 'liblinear', 'sag', 'saga'],   #solver is the algorithm to use for optimization.\n",
    "    'clf__class_weight': ['balanced']  #class_weight is to troubleshoot unbalanced data sampling.\n",
    "}\n",
    "pipe_lr = Pipeline([\n",
    "    ('std', StandardScaler()), ('clf',model_lr),\n",
    "])"
   ]
  },
  {
   "cell_type": "code",
   "execution_count": 30,
   "metadata": {
    "scrolled": true
   },
   "outputs": [],
   "source": [
    "# Parameter tuning for Logistic Regression classifier\n",
    "\n",
    "lrModel_grid = GridSearchCV(pipe_lr,\n",
    "                            param_grid=param_grid_lr,\n",
    "                            verbose=1,\n",
    "                            cv=10, n_jobs=-1, scoring='f1_macro')\n",
    "\n",
    "lrModel_grid.fit(X_train, y_train)\n",
    "lrModel = lrModel_grid.best_estimator_\n",
    "print(lrModel)"
   ]
  },
  {
   "cell_type": "code",
   "execution_count": 31,
   "metadata": {},
   "outputs": [
    {
     "name": "stdout",
     "output_type": "stream",
     "text": [
      "Fitting 10 folds for each of 20 candidates, totalling 200 fits\n",
      "Pipeline(steps=[('std', StandardScaler()),\n",
      "                ('clf',\n",
      "                 LogisticRegression(class_weight='balanced', max_iter=10,\n",
      "                                    solver='liblinear'))])\n"
     ]
    }
   ],
   "source": []
  },
  {
   "cell_type": "code",
   "execution_count": 48,
   "metadata": {},
   "outputs": [
    {
     "name": "stdout",
     "output_type": "stream",
     "text": [
      "Logistic Regression Classfier classification report\n",
      "\n",
      "Accuracy: 0.9916767816889197\n",
      "                    precision    recall  f1-score   support\n",
      "\n",
      "            LAYING       1.00      1.00      1.00      1096\n",
      "           SITTING       0.97      0.98      0.98       995\n",
      "          STANDING       0.98      0.98      0.98      1063\n",
      "           WALKING       1.00      1.00      1.00       958\n",
      "WALKING_DOWNSTAIRS       1.00      1.00      1.00       798\n",
      "  WALKING_UPSTAIRS       1.00      1.00      1.00       857\n",
      "\n",
      "          accuracy                           0.99      5767\n",
      "         macro avg       0.99      0.99      0.99      5767\n",
      "      weighted avg       0.99      0.99      0.99      5767\n",
      "\n"
     ]
    }
   ],
   "source": [
    "# Classification report for Logistic Regression Classfier\n",
    "prediction = lrModel.predict(X_train)\n",
    "print(\"Logistic Regression Classfier classification report\\n\")\n",
    "print(\"Accuracy:\", accuracy_score(y_train, prediction))\n",
    "print(classification_report(y_train, prediction))"
   ]
  },
  {
   "cell_type": "code",
   "execution_count": 60,
   "metadata": {},
   "outputs": [
    {
     "data": {
      "image/png": "[encoded data removed]",
      "text/plain": [
       "<Figure size 720x720 with 2 Axes>"
      ]
     },
     "metadata": {
      "needs_background": "light"
     },
     "output_type": "display_data"
    }
   ],
   "source": [
    "LABELS = ['LAYING', 'SITTING', 'STANDING', 'WALKING', 'WALKING_DOWNSTAIRS', 'WALKING_UPSTAIRS']\n",
    "confusion_matrix_lr = confusion_matrix(y_train, prediction)\n",
    " \n",
    "plt.figure(figsize=(10,10))\n",
    "sns.heatmap(confusion_matrix_lr, xticklabels = LABELS, yticklabels = LABELS, annot =True, fmt = \"d\")\n",
    "plt.title(\"Confusion Matrix\")\n",
    "plt.xlabel('Predicted_label')\n",
    "plt.ylabel('True Label')\n",
    "plt.show()"
   ]
  },
  {
   "cell_type": "markdown",
   "metadata": {},
   "source": [
    "### Naive bayes "
   ]
  },
  {
   "cell_type": "code",
   "execution_count": 14,
   "metadata": {},
   "outputs": [
    {
     "name": "stdout",
     "output_type": "stream",
     "text": [
      "Accuracy: 0.7671232876712328\n",
      "\n",
      " -------------Classification Report-------------\n",
      "\n",
      "                    precision    recall  f1-score   support\n",
      "\n",
      "            LAYING       0.99      0.98      0.99      1096\n",
      "           SITTING       0.57      0.89      0.70       995\n",
      "          STANDING       0.82      0.36      0.50      1063\n",
      "           WALKING       0.91      0.73      0.81       958\n",
      "WALKING_DOWNSTAIRS       0.79      0.75      0.77       798\n",
      "  WALKING_UPSTAIRS       0.69      0.91      0.78       857\n",
      "\n",
      "          accuracy                           0.77      5767\n",
      "         macro avg       0.80      0.77      0.76      5767\n",
      "      weighted avg       0.80      0.77      0.76      5767\n",
      "\n"
     ]
    }
   ],
   "source": [
    "# training model directly without hyperparamter tuning and pipeline\n",
    "\n",
    "clf2 = GaussianNB().fit(X_train,y_train)\n",
    "prediction = clf2.predict(X_train)\n",
    "print(\"Accuracy:\", accuracy_score(y_train, prediction))\n",
    "print(\"\\n -------------Classification Report-------------\\n\")\n",
    "print(classification_report(y_train, prediction))"
   ]
  },
  {
   "cell_type": "code",
   "execution_count": 50,
   "metadata": {},
   "outputs": [
    {
     "data": {
      "text/plain": [
       "GaussianNB()"
      ]
     },
     "execution_count": 50,
     "metadata": {},
     "output_type": "execute_result"
    }
   ],
   "source": [
    "# Model training with hyperparamter tuning and pipeline\n",
    "\n",
    "model_nb = GaussianNB()  \n",
    "model_nb.fit(X_train, y_train)"
   ]
  },
  {
   "cell_type": "code",
   "execution_count": 51,
   "metadata": {},
   "outputs": [
    {
     "name": "stdout",
     "output_type": "stream",
     "text": [
      "Fitting 10 folds for each of 100 candidates, totalling 1000 fits\n",
      "Pipeline(steps=[('std', StandardScaler()),\n",
      "                ('clf', GaussianNB(var_smoothing=0.01519911082952933))])\n"
     ]
    }
   ],
   "source": [
    "param_grid_nb = {\n",
    "    'clf__var_smoothing': np.logspace(0,-12, num=100) #var_smoothing is a stability calculation to widen (or smooth) the curve and therefore account for more samples that are further away from the distribution mean\n",
    "}\n",
    "\n",
    "pipe_nb = Pipeline([\n",
    "    ('std', StandardScaler()), ('clf',model_nb),\n",
    "])\n",
    "\n",
    "nbModel_grid = GridSearchCV(pipe_nb,\n",
    "                            param_grid=param_grid_nb,\n",
    "                            verbose=1,\n",
    "                            cv=10, n_jobs=-1, scoring='f1_macro')\n",
    "nbModel_grid.fit(X_train,y_train)\n",
    "nbModel = nbModel_grid.best_estimator_\n",
    "\n",
    "print(nbModel)"
   ]
  },
  {
   "cell_type": "code",
   "execution_count": 52,
   "metadata": {},
   "outputs": [
    {
     "name": "stdout",
     "output_type": "stream",
     "text": [
      "Gaussian Naive Bayes Classfier classification report\n",
      "\n",
      "Accuracy: 0.8363100398820877\n",
      "                    precision    recall  f1-score   support\n",
      "\n",
      "            LAYING       0.98      0.99      0.99      1096\n",
      "           SITTING       0.90      0.69      0.78       995\n",
      "          STANDING       0.78      0.92      0.84      1063\n",
      "           WALKING       0.90      0.72      0.80       958\n",
      "WALKING_DOWNSTAIRS       0.80      0.74      0.77       798\n",
      "  WALKING_UPSTAIRS       0.70      0.91      0.79       857\n",
      "\n",
      "          accuracy                           0.84      5767\n",
      "         macro avg       0.84      0.83      0.83      5767\n",
      "      weighted avg       0.85      0.84      0.84      5767\n",
      "\n"
     ]
    }
   ],
   "source": [
    "# Classification report for Naive Bayes Classifier\n",
    "\n",
    "prediction = nbModel.predict(X_train)\n",
    "print(\"Gaussian Naive Bayes Classfier classification report\\n\")\n",
    "print(\"Accuracy:\", accuracy_score(y_train, prediction))\n",
    "print(classification_report(y_train, prediction))"
   ]
  },
  {
   "cell_type": "code",
   "execution_count": 61,
   "metadata": {},
   "outputs": [
    {
     "data": {
      "image/png": "[encoded data removed]",
      "text/plain": [
       "<Figure size 720x720 with 2 Axes>"
      ]
     },
     "metadata": {
      "needs_background": "light"
     },
     "output_type": "display_data"
    }
   ],
   "source": [
    "LABELS = ['LAYING', 'SITTING', 'STANDING', 'WALKING', 'WALKING_DOWNSTAIRS', 'WALKING_UPSTAIRS']\n",
    "confusion_matrix_nb = confusion_matrix(y_train, prediction)\n",
    " \n",
    "plt.figure(figsize=(10,10))\n",
    "sns.heatmap(confusion_matrix_nb, xticklabels = LABELS, yticklabels = LABELS, annot =True, fmt = \"d\")\n",
    "plt.title(\"Confusion Matrix\")\n",
    "plt.xlabel('Predicted_label')\n",
    "plt.ylabel('True Label')\n",
    "plt.show()"
   ]
  },
  {
   "cell_type": "markdown",
   "metadata": {},
   "source": [
    "### K-Nearest Neighbor Classfier"
   ]
  },
  {
   "cell_type": "code",
   "execution_count": 15,
   "metadata": {},
   "outputs": [
    {
     "name": "stdout",
     "output_type": "stream",
     "text": [
      "Accuracy: 0.9793653546037802\n",
      "\n",
      " -------------Classification Report-------------\n",
      "\n",
      "                    precision    recall  f1-score   support\n",
      "\n",
      "            LAYING       1.00      1.00      1.00      1096\n",
      "           SITTING       0.95      0.94      0.95       995\n",
      "          STANDING       0.95      0.96      0.95      1063\n",
      "           WALKING       0.99      1.00      0.99       958\n",
      "WALKING_DOWNSTAIRS       1.00      0.98      0.99       798\n",
      "  WALKING_UPSTAIRS       0.99      1.00      0.99       857\n",
      "\n",
      "          accuracy                           0.98      5767\n",
      "         macro avg       0.98      0.98      0.98      5767\n",
      "      weighted avg       0.98      0.98      0.98      5767\n",
      "\n"
     ]
    }
   ],
   "source": [
    "# training model directly without hyperparamter tuning and pipeline\n",
    "\n",
    "clf3 = KNeighborsClassifier().fit(X_train,y_train)\n",
    "prediction = clf3.predict(X_train)\n",
    "print(\"Accuracy:\", accuracy_score(y_train, prediction))\n",
    "print(\"\\n -------------Classification Report-------------\\n\")\n",
    "print(classification_report(y_train, prediction))"
   ]
  },
  {
   "cell_type": "code",
   "execution_count": 54,
   "metadata": {},
   "outputs": [
    {
     "data": {
      "text/plain": [
       "KNeighborsClassifier()"
      ]
     },
     "execution_count": 54,
     "metadata": {},
     "output_type": "execute_result"
    }
   ],
   "source": [
    "# Model training with hyperparamter tuning and pipeline\n",
    "\n",
    "model_knn = KNeighborsClassifier() \n",
    "model_knn.fit(X_train, y_train)"
   ]
  },
  {
   "cell_type": "code",
   "execution_count": 55,
   "metadata": {},
   "outputs": [],
   "source": [
    "param_grid_knn = {\n",
    "    'clf__n_neighbors': [2, 5, 10, 15],      #'n_neighbors' is the value for k-nearest neighbor.                           \n",
    "    'clf__algorithm': ['ball_tree', 'kd_tree', 'brute', 'auto'],    #'algorithm' is the algorithm to compute the nearest neighbors.\n",
    "    'clf__metric': ['minkowski', 'euclidean', 'manhattan', 'chebyshev']     #'metric' is the algorithm to find the distance.\n",
    "}"
   ]
  },
  {
   "cell_type": "code",
   "execution_count": 56,
   "metadata": {},
   "outputs": [
    {
     "name": "stdout",
     "output_type": "stream",
     "text": [
      "Fitting 10 folds for each of 64 candidates, totalling 640 fits\n",
      "Pipeline(steps=[('std', StandardScaler()),\n",
      "                ('clf',\n",
      "                 KNeighborsClassifier(algorithm='ball_tree',\n",
      "                                      metric='manhattan'))])\n"
     ]
    }
   ],
   "source": [
    "#Parameter tuning for K-Nearest Neighbor Classfier\n",
    "\n",
    "pipe_knn = Pipeline([\n",
    "    ('std', StandardScaler()), ('clf',model_knn),\n",
    "])\n",
    "\n",
    "knnModel_grid = GridSearchCV(pipe_knn, \n",
    "                             param_grid=param_grid_knn\n",
    "                             , verbose=1\n",
    "                             , cv=10, n_jobs=-1, scoring='f1_macro')\n",
    "knnModel_grid.fit(X_train,y_train)\n",
    "knnModel = knnModel_grid.best_estimator_\n",
    "print(knnModel)"
   ]
  },
  {
   "cell_type": "code",
   "execution_count": 57,
   "metadata": {},
   "outputs": [
    {
     "name": "stdout",
     "output_type": "stream",
     "text": [
      "K-Nearest Neighbor Classfier classification report\n",
      "\n",
      "Accuracy: 0.9845673660482053\n",
      "                    precision    recall  f1-score   support\n",
      "\n",
      "            LAYING       1.00      1.00      1.00      1096\n",
      "           SITTING       0.98      0.95      0.96       995\n",
      "          STANDING       0.96      0.98      0.97      1063\n",
      "           WALKING       0.99      1.00      0.99       958\n",
      "WALKING_DOWNSTAIRS       1.00      0.98      0.99       798\n",
      "  WALKING_UPSTAIRS       0.99      1.00      0.99       857\n",
      "\n",
      "          accuracy                           0.98      5767\n",
      "         macro avg       0.99      0.98      0.99      5767\n",
      "      weighted avg       0.98      0.98      0.98      5767\n",
      "\n"
     ]
    }
   ],
   "source": [
    "# Classification report for K-Nearest Neighbor Classifier\n",
    "\n",
    "prediction = knnModel.predict(X_train)\n",
    "print(\"K-Nearest Neighbor Classfier classification report\\n\")\n",
    "print(\"Accuracy:\", accuracy_score(y_train, prediction))\n",
    "print(classification_report(y_train, prediction))"
   ]
  },
  {
   "cell_type": "code",
   "execution_count": 59,
   "metadata": {},
   "outputs": [
    {
     "data": {
      "image/png": "[encoded data removed]",
      "text/plain": [
       "<Figure size 720x720 with 2 Axes>"
      ]
     },
     "metadata": {
      "needs_background": "light"
     },
     "output_type": "display_data"
    }
   ],
   "source": [
    "LABELS = ['LAYING', 'SITTING', 'STANDING', 'WALKING', 'WALKING_DOWNSTAIRS', 'WALKING_UPSTAIRS']\n",
    "confusion_matrix_knn = confusion_matrix(y_train.tolist(), prediction.tolist())\n",
    " \n",
    "plt.figure(figsize=(10,10))\n",
    "sns.heatmap(confusion_matrix_knn, xticklabels = LABELS, yticklabels = LABELS, annot =True, fmt = \"d\")\n",
    "plt.title(\"Confusion Matrix\")\n",
    "plt.xlabel('Predicted_label')\n",
    "plt.ylabel('True Label')\n",
    "plt.show()"
   ]
  },
  {
   "cell_type": "code",
   "execution_count": 54,
   "metadata": {},
   "outputs": [
    {
     "data": {
      "text/plain": [
       "numpy.ndarray"
      ]
     },
     "execution_count": 54,
     "metadata": {},
     "output_type": "execute_result"
    }
   ],
   "source": [
    "type(prediction)"
   ]
  },
  {
   "cell_type": "markdown",
   "metadata": {},
   "source": [
    "### SVM Classifier"
   ]
  },
  {
   "cell_type": "code",
   "execution_count": 75,
   "metadata": {},
   "outputs": [
    {
     "name": "stdout",
     "output_type": "stream",
     "text": [
      "Accuracy: 0.971909138200104\n",
      "\n",
      " -------------Classification Report-------------\n",
      "\n",
      "                    precision    recall  f1-score   support\n",
      "\n",
      "            LAYING       1.00      1.00      1.00      1096\n",
      "           SITTING       0.94      0.91      0.93       995\n",
      "          STANDING       0.92      0.95      0.94      1063\n",
      "           WALKING       0.99      1.00      1.00       958\n",
      "WALKING_DOWNSTAIRS       0.99      0.99      0.99       798\n",
      "  WALKING_UPSTAIRS       0.99      0.99      0.99       857\n",
      "\n",
      "          accuracy                           0.97      5767\n",
      "         macro avg       0.97      0.97      0.97      5767\n",
      "      weighted avg       0.97      0.97      0.97      5767\n",
      "\n"
     ]
    }
   ],
   "source": [
    "# training model directly without hyperparamter tuning and pipeline\n",
    "\n",
    "clf4 = SVC().fit(X_train, y_train)\n",
    "prediction = clf4.predict(X_train)\n",
    "print(\"Accuracy:\", accuracy_score(y_train, prediction))\n",
    "print(\"\\n -------------Classification Report-------------\\n\")\n",
    "print(classification_report(y_train, prediction))"
   ]
  },
  {
   "cell_type": "code",
   "execution_count": 76,
   "metadata": {},
   "outputs": [
    {
     "data": {
      "text/plain": [
       "SVC()"
      ]
     },
     "execution_count": 76,
     "metadata": {},
     "output_type": "execute_result"
    }
   ],
   "source": [
    "# Model training with hyperparamter tuning and pipeline\n",
    "\n",
    "model_svm = SVC() \n",
    "model_svm.fit(X_train, y_train)"
   ]
  },
  {
   "cell_type": "code",
   "execution_count": 77,
   "metadata": {},
   "outputs": [],
   "source": [
    "param_grid_svm = {'clf__C': [0.1, 1, 10, 100, 1000],\n",
    "              'clf__gamma': [1, 0.1, 0.01, 0.001, 0.0001],\n",
    "              'clf__kernel': ['rbf']}\n"
   ]
  },
  {
   "cell_type": "code",
   "execution_count": 78,
   "metadata": {},
   "outputs": [
    {
     "name": "stdout",
     "output_type": "stream",
     "text": [
      "Fitting 5 folds for each of 25 candidates, totalling 125 fits\n",
      "Pipeline(steps=[('std', StandardScaler()), ('clf', SVC(C=1000, gamma=0.001))])\n"
     ]
    }
   ],
   "source": [
    "pipe_svm = Pipeline([\n",
    "    ('std', StandardScaler()), ('clf',model_svm),\n",
    "])\n",
    "\n",
    "svmModel_grid = GridSearchCV(pipe_svm, \n",
    "                    param_grid=param_grid_svm, \n",
    "                    refit = True, verbose = 1)\n",
    " \n",
    "# fitting the model for grid search\n",
    "svmModel_grid.fit(X_train,y_train)\n",
    "svmModel = svmModel_grid.best_estimator_\n",
    "print(svmModel)"
   ]
  },
  {
   "cell_type": "code",
   "execution_count": 79,
   "metadata": {},
   "outputs": [
    {
     "name": "stdout",
     "output_type": "stream",
     "text": [
      "SVM Classfier classification report\n",
      "\n",
      "Accuracy: 1.0\n",
      "                    precision    recall  f1-score   support\n",
      "\n",
      "            LAYING       1.00      1.00      1.00      1096\n",
      "           SITTING       1.00      1.00      1.00       995\n",
      "          STANDING       1.00      1.00      1.00      1063\n",
      "           WALKING       1.00      1.00      1.00       958\n",
      "WALKING_DOWNSTAIRS       1.00      1.00      1.00       798\n",
      "  WALKING_UPSTAIRS       1.00      1.00      1.00       857\n",
      "\n",
      "          accuracy                           1.00      5767\n",
      "         macro avg       1.00      1.00      1.00      5767\n",
      "      weighted avg       1.00      1.00      1.00      5767\n",
      "\n"
     ]
    }
   ],
   "source": [
    "# Classification report for SVM Classifier\n",
    "\n",
    "prediction = svmModel.predict(X_train)\n",
    "print(\"SVM Classfier classification report\\n\")\n",
    "print(\"Accuracy:\", accuracy_score(y_train, prediction))\n",
    "print(classification_report(y_train, prediction))"
   ]
  },
  {
   "cell_type": "code",
   "execution_count": 80,
   "metadata": {},
   "outputs": [
    {
     "data": {
      "image/png": "[encoded data removed]",
      "text/plain": [
       "<Figure size 720x720 with 2 Axes>"
      ]
     },
     "metadata": {
      "needs_background": "light"
     },
     "output_type": "display_data"
    }
   ],
   "source": [
    "from sklearn.metrics import confusion_matrix\n",
    "\n",
    "LABELS = ['LAYING', 'SITTING', 'STANDING', 'WALKING', 'WALKING_DOWNSTAIRS', 'WALKING_UPSTAIRS']\n",
    "confusion_matrix_svm = confusion_matrix(y_train, prediction)\n",
    " \n",
    "plt.figure(figsize=(10,10))\n",
    "sns.heatmap(confusion_matrix_svm, xticklabels = LABELS, yticklabels = LABELS, annot =True, fmt = \"d\")\n",
    "plt.title(\"Confusion Matrix\")\n",
    "plt.xlabel('Predicted_label')\n",
    "plt.ylabel('True Label')\n",
    "plt.show()"
   ]
  },
  {
   "cell_type": "markdown",
   "metadata": {},
   "source": [
    "### Random Forest Classifier"
   ]
  },
  {
   "cell_type": "code",
   "execution_count": 72,
   "metadata": {},
   "outputs": [
    {
     "name": "stdout",
     "output_type": "stream",
     "text": [
      "Accuracy: 1.0\n",
      "\n",
      " -------------Classification Report-------------\n",
      "\n",
      "                    precision    recall  f1-score   support\n",
      "\n",
      "            LAYING       1.00      1.00      1.00      1096\n",
      "           SITTING       1.00      1.00      1.00       995\n",
      "          STANDING       1.00      1.00      1.00      1063\n",
      "           WALKING       1.00      1.00      1.00       958\n",
      "WALKING_DOWNSTAIRS       1.00      1.00      1.00       798\n",
      "  WALKING_UPSTAIRS       1.00      1.00      1.00       857\n",
      "\n",
      "          accuracy                           1.00      5767\n",
      "         macro avg       1.00      1.00      1.00      5767\n",
      "      weighted avg       1.00      1.00      1.00      5767\n",
      "\n"
     ]
    }
   ],
   "source": [
    "# training model directly without hyperparamter tuning and pipeline\n",
    "\n",
    "clf5 = RandomForestClassifier().fit(X_train,y_train) \n",
    "prediction = clf5.predict(X_train)\n",
    "print(\"Accuracy:\", accuracy_score(y_train, prediction))\n",
    "print(\"\\n -------------Classification Report-------------\\n\")\n",
    "print(classification_report(y_train, prediction))"
   ]
  },
  {
   "cell_type": "code",
   "execution_count": 43,
   "metadata": {},
   "outputs": [
    {
     "data": {
      "text/plain": [
       "RandomForestClassifier()"
      ]
     },
     "execution_count": 43,
     "metadata": {},
     "output_type": "execute_result"
    }
   ],
   "source": [
    "# Model training with hyperparamter tuning and pipeline\n",
    "\n",
    "model_rfc = RandomForestClassifier() \n",
    "model_rfc.fit(X_train, y_train)"
   ]
  },
  {
   "cell_type": "code",
   "execution_count": 66,
   "metadata": {},
   "outputs": [
    {
     "name": "stdout",
     "output_type": "stream",
     "text": [
      "Fitting 5 folds for each of 90 candidates, totalling 450 fits\n",
      "Pipeline(steps=[('std', StandardScaler()),\n",
      "                ('clf',\n",
      "                 RandomForestClassifier(criterion='entropy', max_depth=8))])\n"
     ]
    }
   ],
   "source": [
    "param_grid_rfc = {'clf__n_estimators': [1, 5, 100],\n",
    "                'clf__max_features': ['auto', 'sqrt', 'log2'],\n",
    "                'clf__max_depth' : [4,5,6,7,8],\n",
    "                'clf__criterion' :['gini', 'entropy']}\n",
    "\n",
    "pipe_rfc = Pipeline([\n",
    "    ('std', StandardScaler()), ('clf',model_rfc),\n",
    "])\n",
    "\n",
    "rfcModel_grid = GridSearchCV(pipe_rfc, \n",
    "                    param_grid=param_grid_rfc, \n",
    "                    refit = True, verbose = 1)\n",
    "\n",
    "# fitting the model for grid search\n",
    "rfcModel_grid.fit(X_train,y_train)\n",
    "rfcModel = rfcModel_grid.best_estimator_\n",
    "print(rfcModel)"
   ]
  },
  {
   "cell_type": "code",
   "execution_count": 67,
   "metadata": {},
   "outputs": [
    {
     "data": {
      "text/plain": [
       "Pipeline(steps=[('std', StandardScaler()),\n",
       "                ('clf',\n",
       "                 RandomForestClassifier(criterion='entropy', max_depth=8))])"
      ]
     },
     "execution_count": 67,
     "metadata": {},
     "output_type": "execute_result"
    }
   ],
   "source": [
    "rfcModel"
   ]
  },
  {
   "cell_type": "code",
   "execution_count": 84,
   "metadata": {
    "scrolled": true
   },
   "outputs": [
    {
     "name": "stdout",
     "output_type": "stream",
     "text": [
      "Random forest Classfier classification report\n",
      "\n",
      "Accuracy: 0.9897693774926305\n",
      "                    precision    recall  f1-score   support\n",
      "\n",
      "            LAYING       1.00      1.00      1.00      1096\n",
      "           SITTING       0.99      0.95      0.97       995\n",
      "          STANDING       0.96      0.99      0.98      1063\n",
      "           WALKING       1.00      1.00      1.00       958\n",
      "WALKING_DOWNSTAIRS       1.00      0.99      1.00       798\n",
      "  WALKING_UPSTAIRS       1.00      1.00      1.00       857\n",
      "\n",
      "          accuracy                           0.99      5767\n",
      "         macro avg       0.99      0.99      0.99      5767\n",
      "      weighted avg       0.99      0.99      0.99      5767\n",
      "\n"
     ]
    }
   ],
   "source": [
    "prediction = rfcModel.predict(X_train)\n",
    "print(\"Random forest Classfier classification report\\n\")\n",
    "print(\"Accuracy:\", accuracy_score(y_train, prediction))\n",
    "print(classification_report(y_train, prediction))"
   ]
  },
  {
   "cell_type": "code",
   "execution_count": 85,
   "metadata": {},
   "outputs": [
    {
     "data": {
      "image/png": "[encoded data removed]",
      "text/plain": [
       "<Figure size 720x720 with 2 Axes>"
      ]
     },
     "metadata": {
      "needs_background": "light"
     },
     "output_type": "display_data"
    }
   ],
   "source": [
    "LABELS = ['LAYING', 'SITTING', 'STANDING', 'WALKING', 'WALKING_DOWNSTAIRS', 'WALKING_UPSTAIRS']\n",
    "confusion_matrix_rfc = confusion_matrix(y_train, prediction)\n",
    " \n",
    "plt.figure(figsize=(10,10))\n",
    "sns.heatmap(confusion_matrix_rfc, xticklabels = LABELS, yticklabels = LABELS, annot =True, fmt = \"d\")\n",
    "plt.title(\"Confusion Matrix\")\n",
    "plt.xlabel('Predicted_label')\n",
    "plt.ylabel('True Label')\n",
    "plt.show()"
   ]
  },
  {
   "cell_type": "markdown",
   "metadata": {},
   "source": [
    "## Testing data"
   ]
  },
  {
   "cell_type": "code",
   "execution_count": null,
   "metadata": {},
   "outputs": [],
   "source": [
    "### Final predictions using best model"
   ]
  },
  {
   "cell_type": "code",
   "execution_count": 81,
   "metadata": {},
   "outputs": [],
   "source": [
    "pred = svmModel.predict(x__test)"
   ]
  },
  {
   "cell_type": "code",
   "execution_count": 82,
   "metadata": {},
   "outputs": [
    {
     "name": "stdout",
     "output_type": "stream",
     "text": [
      "The predicted class labels for test data using the best model is: \n",
      " ['WALKING_DOWNSTAIRS' 'WALKING_DOWNSTAIRS' 'STANDING' ... 'LAYING'\n",
      " 'WALKING' 'WALKING']\n"
     ]
    }
   ],
   "source": [
    "print(\"The predicted class labels for test data using the best model is: \\n\",pred)"
   ]
  },
  {
   "cell_type": "code",
   "execution_count": null,
   "metadata": {},
   "outputs": [],
   "source": []
  }
 ],
 "metadata": {
  "kernelspec": {
   "display_name": "Python 3",
   "language": "python",
   "name": "python3"
  },
  "language_info": {
   "codemirror_mode": {
    "name": "ipython",
    "version": 3
   },
   "file_extension": ".py",
   "mimetype": "text/x-python",
   "name": "python",
   "nbconvert_exporter": "python",
   "pygments_lexer": "ipython3",
   "version": "3.8.10"
  }
 },
 "nbformat": 4,
 "nbformat_minor": 4
}
